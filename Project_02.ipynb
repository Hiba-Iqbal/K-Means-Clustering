{
  "nbformat": 4,
  "nbformat_minor": 0,
  "metadata": {
    "colab": {
      "provenance": []
    },
    "kernelspec": {
      "name": "python3",
      "display_name": "Python 3"
    },
    "language_info": {
      "name": "python"
    }
  },
  "cells": [
    {
      "cell_type": "markdown",
      "source": [
        "**Project 02**\n",
        "\n",
        "**Prediction Using Unsupervised Machine Learning**\n",
        "\n",
        "Predict the optimum number of clusters and represent it visually"
      ],
      "metadata": {
        "id": "7NFNxUoLQEew"
      }
    },
    {
      "cell_type": "markdown",
      "source": [
        "**K-Means Clustering**\n",
        "\n",
        "K-means clustering is one of the simplest and popular unsupervised machine learning algorithms."
      ],
      "metadata": {
        "id": "5sm6kddI8AqO"
      }
    },
    {
      "cell_type": "code",
      "source": [
        "#Importing Libraries\n",
        "import pandas as pd\n",
        "import numpy as np\n",
        "import matplotlib.pyplot as plt\n",
        "from sklearn import datasets"
      ],
      "metadata": {
        "id": "Vvs143i7TczK"
      },
      "execution_count": 1,
      "outputs": []
    },
    {
      "cell_type": "code",
      "source": [
        "#Load dataset\n",
        "iris = datasets.load_iris()\n",
        "iris_data = pd.DataFrame(iris.data, columns = iris.feature_names)\n",
        "iris_data.head()"
      ],
      "metadata": {
        "colab": {
          "base_uri": "https://localhost:8080/",
          "height": 206
        },
        "id": "EAUqkNp8UKTX",
        "outputId": "171bc54e-3453-4718-930f-51d000e9d8dd"
      },
      "execution_count": 2,
      "outputs": [
        {
          "output_type": "execute_result",
          "data": {
            "text/plain": [
              "   sepal length (cm)  sepal width (cm)  petal length (cm)  petal width (cm)\n",
              "0                5.1               3.5                1.4               0.2\n",
              "1                4.9               3.0                1.4               0.2\n",
              "2                4.7               3.2                1.3               0.2\n",
              "3                4.6               3.1                1.5               0.2\n",
              "4                5.0               3.6                1.4               0.2"
            ],
            "text/html": [
              "\n",
              "  <div id=\"df-2fe81574-0e8b-4ccd-a788-50b0ef7e8b5e\">\n",
              "    <div class=\"colab-df-container\">\n",
              "      <div>\n",
              "<style scoped>\n",
              "    .dataframe tbody tr th:only-of-type {\n",
              "        vertical-align: middle;\n",
              "    }\n",
              "\n",
              "    .dataframe tbody tr th {\n",
              "        vertical-align: top;\n",
              "    }\n",
              "\n",
              "    .dataframe thead th {\n",
              "        text-align: right;\n",
              "    }\n",
              "</style>\n",
              "<table border=\"1\" class=\"dataframe\">\n",
              "  <thead>\n",
              "    <tr style=\"text-align: right;\">\n",
              "      <th></th>\n",
              "      <th>sepal length (cm)</th>\n",
              "      <th>sepal width (cm)</th>\n",
              "      <th>petal length (cm)</th>\n",
              "      <th>petal width (cm)</th>\n",
              "    </tr>\n",
              "  </thead>\n",
              "  <tbody>\n",
              "    <tr>\n",
              "      <th>0</th>\n",
              "      <td>5.1</td>\n",
              "      <td>3.5</td>\n",
              "      <td>1.4</td>\n",
              "      <td>0.2</td>\n",
              "    </tr>\n",
              "    <tr>\n",
              "      <th>1</th>\n",
              "      <td>4.9</td>\n",
              "      <td>3.0</td>\n",
              "      <td>1.4</td>\n",
              "      <td>0.2</td>\n",
              "    </tr>\n",
              "    <tr>\n",
              "      <th>2</th>\n",
              "      <td>4.7</td>\n",
              "      <td>3.2</td>\n",
              "      <td>1.3</td>\n",
              "      <td>0.2</td>\n",
              "    </tr>\n",
              "    <tr>\n",
              "      <th>3</th>\n",
              "      <td>4.6</td>\n",
              "      <td>3.1</td>\n",
              "      <td>1.5</td>\n",
              "      <td>0.2</td>\n",
              "    </tr>\n",
              "    <tr>\n",
              "      <th>4</th>\n",
              "      <td>5.0</td>\n",
              "      <td>3.6</td>\n",
              "      <td>1.4</td>\n",
              "      <td>0.2</td>\n",
              "    </tr>\n",
              "  </tbody>\n",
              "</table>\n",
              "</div>\n",
              "      <button class=\"colab-df-convert\" onclick=\"convertToInteractive('df-2fe81574-0e8b-4ccd-a788-50b0ef7e8b5e')\"\n",
              "              title=\"Convert this dataframe to an interactive table.\"\n",
              "              style=\"display:none;\">\n",
              "        \n",
              "  <svg xmlns=\"http://www.w3.org/2000/svg\" height=\"24px\"viewBox=\"0 0 24 24\"\n",
              "       width=\"24px\">\n",
              "    <path d=\"M0 0h24v24H0V0z\" fill=\"none\"/>\n",
              "    <path d=\"M18.56 5.44l.94 2.06.94-2.06 2.06-.94-2.06-.94-.94-2.06-.94 2.06-2.06.94zm-11 1L8.5 8.5l.94-2.06 2.06-.94-2.06-.94L8.5 2.5l-.94 2.06-2.06.94zm10 10l.94 2.06.94-2.06 2.06-.94-2.06-.94-.94-2.06-.94 2.06-2.06.94z\"/><path d=\"M17.41 7.96l-1.37-1.37c-.4-.4-.92-.59-1.43-.59-.52 0-1.04.2-1.43.59L10.3 9.45l-7.72 7.72c-.78.78-.78 2.05 0 2.83L4 21.41c.39.39.9.59 1.41.59.51 0 1.02-.2 1.41-.59l7.78-7.78 2.81-2.81c.8-.78.8-2.07 0-2.86zM5.41 20L4 18.59l7.72-7.72 1.47 1.35L5.41 20z\"/>\n",
              "  </svg>\n",
              "      </button>\n",
              "      \n",
              "  <style>\n",
              "    .colab-df-container {\n",
              "      display:flex;\n",
              "      flex-wrap:wrap;\n",
              "      gap: 12px;\n",
              "    }\n",
              "\n",
              "    .colab-df-convert {\n",
              "      background-color: #E8F0FE;\n",
              "      border: none;\n",
              "      border-radius: 50%;\n",
              "      cursor: pointer;\n",
              "      display: none;\n",
              "      fill: #1967D2;\n",
              "      height: 32px;\n",
              "      padding: 0 0 0 0;\n",
              "      width: 32px;\n",
              "    }\n",
              "\n",
              "    .colab-df-convert:hover {\n",
              "      background-color: #E2EBFA;\n",
              "      box-shadow: 0px 1px 2px rgba(60, 64, 67, 0.3), 0px 1px 3px 1px rgba(60, 64, 67, 0.15);\n",
              "      fill: #174EA6;\n",
              "    }\n",
              "\n",
              "    [theme=dark] .colab-df-convert {\n",
              "      background-color: #3B4455;\n",
              "      fill: #D2E3FC;\n",
              "    }\n",
              "\n",
              "    [theme=dark] .colab-df-convert:hover {\n",
              "      background-color: #434B5C;\n",
              "      box-shadow: 0px 1px 3px 1px rgba(0, 0, 0, 0.15);\n",
              "      filter: drop-shadow(0px 1px 2px rgba(0, 0, 0, 0.3));\n",
              "      fill: #FFFFFF;\n",
              "    }\n",
              "  </style>\n",
              "\n",
              "      <script>\n",
              "        const buttonEl =\n",
              "          document.querySelector('#df-2fe81574-0e8b-4ccd-a788-50b0ef7e8b5e button.colab-df-convert');\n",
              "        buttonEl.style.display =\n",
              "          google.colab.kernel.accessAllowed ? 'block' : 'none';\n",
              "\n",
              "        async function convertToInteractive(key) {\n",
              "          const element = document.querySelector('#df-2fe81574-0e8b-4ccd-a788-50b0ef7e8b5e');\n",
              "          const dataTable =\n",
              "            await google.colab.kernel.invokeFunction('convertToInteractive',\n",
              "                                                     [key], {});\n",
              "          if (!dataTable) return;\n",
              "\n",
              "          const docLinkHtml = 'Like what you see? Visit the ' +\n",
              "            '<a target=\"_blank\" href=https://colab.research.google.com/notebooks/data_table.ipynb>data table notebook</a>'\n",
              "            + ' to learn more about interactive tables.';\n",
              "          element.innerHTML = '';\n",
              "          dataTable['output_type'] = 'display_data';\n",
              "          await google.colab.output.renderOutput(dataTable, element);\n",
              "          const docLink = document.createElement('div');\n",
              "          docLink.innerHTML = docLinkHtml;\n",
              "          element.appendChild(docLink);\n",
              "        }\n",
              "      </script>\n",
              "    </div>\n",
              "  </div>\n",
              "  "
            ]
          },
          "metadata": {},
          "execution_count": 2
        }
      ]
    },
    {
      "cell_type": "markdown",
      "source": [
        "**Finding the optimum number of clusters for k-means classification**"
      ],
      "metadata": {
        "id": "sxzXcVTkXSMV"
      }
    },
    {
      "cell_type": "code",
      "source": [
        "x= iris_data.iloc[:,[1,2,3]].values\n",
        "print(x)"
      ],
      "metadata": {
        "colab": {
          "base_uri": "https://localhost:8080/"
        },
        "id": "V8gQoX17XWvO",
        "outputId": "127f9432-0fe0-49a8-a11d-7c9e98e48177"
      },
      "execution_count": 3,
      "outputs": [
        {
          "output_type": "stream",
          "name": "stdout",
          "text": [
            "[[3.5 1.4 0.2]\n",
            " [3.  1.4 0.2]\n",
            " [3.2 1.3 0.2]\n",
            " [3.1 1.5 0.2]\n",
            " [3.6 1.4 0.2]\n",
            " [3.9 1.7 0.4]\n",
            " [3.4 1.4 0.3]\n",
            " [3.4 1.5 0.2]\n",
            " [2.9 1.4 0.2]\n",
            " [3.1 1.5 0.1]\n",
            " [3.7 1.5 0.2]\n",
            " [3.4 1.6 0.2]\n",
            " [3.  1.4 0.1]\n",
            " [3.  1.1 0.1]\n",
            " [4.  1.2 0.2]\n",
            " [4.4 1.5 0.4]\n",
            " [3.9 1.3 0.4]\n",
            " [3.5 1.4 0.3]\n",
            " [3.8 1.7 0.3]\n",
            " [3.8 1.5 0.3]\n",
            " [3.4 1.7 0.2]\n",
            " [3.7 1.5 0.4]\n",
            " [3.6 1.  0.2]\n",
            " [3.3 1.7 0.5]\n",
            " [3.4 1.9 0.2]\n",
            " [3.  1.6 0.2]\n",
            " [3.4 1.6 0.4]\n",
            " [3.5 1.5 0.2]\n",
            " [3.4 1.4 0.2]\n",
            " [3.2 1.6 0.2]\n",
            " [3.1 1.6 0.2]\n",
            " [3.4 1.5 0.4]\n",
            " [4.1 1.5 0.1]\n",
            " [4.2 1.4 0.2]\n",
            " [3.1 1.5 0.2]\n",
            " [3.2 1.2 0.2]\n",
            " [3.5 1.3 0.2]\n",
            " [3.6 1.4 0.1]\n",
            " [3.  1.3 0.2]\n",
            " [3.4 1.5 0.2]\n",
            " [3.5 1.3 0.3]\n",
            " [2.3 1.3 0.3]\n",
            " [3.2 1.3 0.2]\n",
            " [3.5 1.6 0.6]\n",
            " [3.8 1.9 0.4]\n",
            " [3.  1.4 0.3]\n",
            " [3.8 1.6 0.2]\n",
            " [3.2 1.4 0.2]\n",
            " [3.7 1.5 0.2]\n",
            " [3.3 1.4 0.2]\n",
            " [3.2 4.7 1.4]\n",
            " [3.2 4.5 1.5]\n",
            " [3.1 4.9 1.5]\n",
            " [2.3 4.  1.3]\n",
            " [2.8 4.6 1.5]\n",
            " [2.8 4.5 1.3]\n",
            " [3.3 4.7 1.6]\n",
            " [2.4 3.3 1. ]\n",
            " [2.9 4.6 1.3]\n",
            " [2.7 3.9 1.4]\n",
            " [2.  3.5 1. ]\n",
            " [3.  4.2 1.5]\n",
            " [2.2 4.  1. ]\n",
            " [2.9 4.7 1.4]\n",
            " [2.9 3.6 1.3]\n",
            " [3.1 4.4 1.4]\n",
            " [3.  4.5 1.5]\n",
            " [2.7 4.1 1. ]\n",
            " [2.2 4.5 1.5]\n",
            " [2.5 3.9 1.1]\n",
            " [3.2 4.8 1.8]\n",
            " [2.8 4.  1.3]\n",
            " [2.5 4.9 1.5]\n",
            " [2.8 4.7 1.2]\n",
            " [2.9 4.3 1.3]\n",
            " [3.  4.4 1.4]\n",
            " [2.8 4.8 1.4]\n",
            " [3.  5.  1.7]\n",
            " [2.9 4.5 1.5]\n",
            " [2.6 3.5 1. ]\n",
            " [2.4 3.8 1.1]\n",
            " [2.4 3.7 1. ]\n",
            " [2.7 3.9 1.2]\n",
            " [2.7 5.1 1.6]\n",
            " [3.  4.5 1.5]\n",
            " [3.4 4.5 1.6]\n",
            " [3.1 4.7 1.5]\n",
            " [2.3 4.4 1.3]\n",
            " [3.  4.1 1.3]\n",
            " [2.5 4.  1.3]\n",
            " [2.6 4.4 1.2]\n",
            " [3.  4.6 1.4]\n",
            " [2.6 4.  1.2]\n",
            " [2.3 3.3 1. ]\n",
            " [2.7 4.2 1.3]\n",
            " [3.  4.2 1.2]\n",
            " [2.9 4.2 1.3]\n",
            " [2.9 4.3 1.3]\n",
            " [2.5 3.  1.1]\n",
            " [2.8 4.1 1.3]\n",
            " [3.3 6.  2.5]\n",
            " [2.7 5.1 1.9]\n",
            " [3.  5.9 2.1]\n",
            " [2.9 5.6 1.8]\n",
            " [3.  5.8 2.2]\n",
            " [3.  6.6 2.1]\n",
            " [2.5 4.5 1.7]\n",
            " [2.9 6.3 1.8]\n",
            " [2.5 5.8 1.8]\n",
            " [3.6 6.1 2.5]\n",
            " [3.2 5.1 2. ]\n",
            " [2.7 5.3 1.9]\n",
            " [3.  5.5 2.1]\n",
            " [2.5 5.  2. ]\n",
            " [2.8 5.1 2.4]\n",
            " [3.2 5.3 2.3]\n",
            " [3.  5.5 1.8]\n",
            " [3.8 6.7 2.2]\n",
            " [2.6 6.9 2.3]\n",
            " [2.2 5.  1.5]\n",
            " [3.2 5.7 2.3]\n",
            " [2.8 4.9 2. ]\n",
            " [2.8 6.7 2. ]\n",
            " [2.7 4.9 1.8]\n",
            " [3.3 5.7 2.1]\n",
            " [3.2 6.  1.8]\n",
            " [2.8 4.8 1.8]\n",
            " [3.  4.9 1.8]\n",
            " [2.8 5.6 2.1]\n",
            " [3.  5.8 1.6]\n",
            " [2.8 6.1 1.9]\n",
            " [3.8 6.4 2. ]\n",
            " [2.8 5.6 2.2]\n",
            " [2.8 5.1 1.5]\n",
            " [2.6 5.6 1.4]\n",
            " [3.  6.1 2.3]\n",
            " [3.4 5.6 2.4]\n",
            " [3.1 5.5 1.8]\n",
            " [3.  4.8 1.8]\n",
            " [3.1 5.4 2.1]\n",
            " [3.1 5.6 2.4]\n",
            " [3.1 5.1 2.3]\n",
            " [2.7 5.1 1.9]\n",
            " [3.2 5.9 2.3]\n",
            " [3.3 5.7 2.5]\n",
            " [3.  5.2 2.3]\n",
            " [2.5 5.  1.9]\n",
            " [3.  5.2 2. ]\n",
            " [3.4 5.4 2.3]\n",
            " [3.  5.1 1.8]]\n"
          ]
        }
      ]
    },
    {
      "cell_type": "code",
      "source": [
        "from sklearn.cluster import KMeans\n",
        "wcss = []\n",
        "for i in range(1,11):\n",
        "    kmeans = KMeans(n_clusters = i, init = 'k-means++',max_iter = 300, n_init = 10, random_state = 0)\n",
        "    kmeans.fit(x)\n",
        "    wcss.append(kmeans.inertia_)"
      ],
      "metadata": {
        "id": "96Of-GNzYAPh"
      },
      "execution_count": 4,
      "outputs": []
    },
    {
      "cell_type": "code",
      "source": [
        "# Plotting the results onto a line graph, \n",
        "# `allowing us to observe 'The elbow'\n",
        "plt.plot(range(1, 11), wcss)\n",
        "plt.title('The elbow method')\n",
        "plt.xlabel('Number of clusters')\n",
        "plt.ylabel('WCSS') # Within cluster sum of squares\n",
        "plt.show()"
      ],
      "metadata": {
        "colab": {
          "base_uri": "https://localhost:8080/",
          "height": 295
        },
        "id": "J-ymIJ6fZEAk",
        "outputId": "3aacf188-9ab5-41f6-be87-9506ddf4d4ac"
      },
      "execution_count": 5,
      "outputs": [
        {
          "output_type": "display_data",
          "data": {
            "text/plain": [
              "<Figure size 432x288 with 1 Axes>"
            ],
            "image/png": "[encoded data removed]"
          },
          "metadata": {
            "needs_background": "light"
          }
        }
      ]
    },
    {
      "cell_type": "markdown",
      "source": [
        "You can clearly see why it is called **'The elbow method'** from the above graph, the optimum clusters is where the elbow occurs. This is when the within cluster sum of squares (WCSS) doesn't decrease significantly with every iteration.\n",
        "\n",
        "From this we choose the number of clusters as **3**."
      ],
      "metadata": {
        "id": "koqbfAjQaNQl"
      }
    },
    {
      "cell_type": "code",
      "source": [
        "# Applying kmeans to the dataset / Creating the kmeans classifier\n",
        "kmeans = KMeans(n_clusters = 3, init = 'k-means++',\n",
        "                max_iter = 300, n_init = 10, random_state = 0)\n",
        "y_kmeans = kmeans.fit_predict(x)\n",
        "\n"
      ],
      "metadata": {
        "id": "R20Kgl3Jahmq"
      },
      "execution_count": 6,
      "outputs": []
    },
    {
      "cell_type": "code",
      "source": [
        "# Visualising the clusters - On the first two columns\n",
        "plt.scatter(x[y_kmeans == 0, 0], x[y_kmeans == 0, 1], \n",
        "            s = 100, c = 'red', label = 'Iris-setosa')\n",
        "plt.scatter(x[y_kmeans == 1, 0], x[y_kmeans == 1, 1], \n",
        "            s = 100, c = 'blue', label = 'Iris-versicolour')\n",
        "plt.scatter(x[y_kmeans == 2, 0], x[y_kmeans == 2, 1],\n",
        "            s = 100, c = 'green', label = 'Iris-virginica')\n",
        "\n",
        "# Plotting the centroids of the clusters\n",
        "plt.scatter(kmeans.cluster_centers_[:, 0], kmeans.cluster_centers_[:,1], \n",
        "            s = 100, c = 'yellow', label = 'Centroids')\n",
        "\n",
        "plt.legend()"
      ],
      "metadata": {
        "colab": {
          "base_uri": "https://localhost:8080/",
          "height": 282
        },
        "id": "iG3aOHhqawtL",
        "outputId": "17870c90-ae1b-4b0e-dc40-33392a51ff39"
      },
      "execution_count": 7,
      "outputs": [
        {
          "output_type": "execute_result",
          "data": {
            "text/plain": [
              "<matplotlib.legend.Legend at 0x7f48241c63d0>"
            ]
          },
          "metadata": {},
          "execution_count": 7
        },
        {
          "output_type": "display_data",
          "data": {
            "text/plain": [
              "<Figure size 432x288 with 1 Axes>"
            ],
            "image/png": "[encoded data removed]"
          },
          "metadata": {
            "needs_background": "light"
          }
        }
      ]
    }
  ]
}